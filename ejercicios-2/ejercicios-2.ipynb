{
 "cells": [
  {
   "cell_type": "code",
   "execution_count": null,
   "metadata": {},
   "outputs": [],
   "source": [
    "#Ejercicio 1\n",
    "class Persona:\n",
    "    def __init__(self,nombre,edad):\n",
    "        self.nombre = nombre\n",
    "        self.edad = edad\n",
    "        \n",
    "    def mostrar_datos(self):\n",
    "        print(f\"Nombre: {self.nombre}\\nEdad: {self.edad}\")\n",
    "\n",
    "class Estudiante(Persona):\n",
    "    def __init__(self,nombre,edad,grado):\n",
    "        super().__init__(nombre,edad)\n",
    "        self.grado = grado\n",
    "        \n",
    "    def mostrar_grado(self):\n",
    "        print(f'Grado: {self.grado}')\n",
    "        \n",
    "estudiante = Estudiante('Gerardo',24,'4to')\n",
    "estudiante.mostrar_datos()\n",
    "estudiante.mostrar_grado()"
   ]
  },
  {
   "cell_type": "code",
   "execution_count": null,
   "metadata": {},
   "outputs": [],
   "source": [
    "class Animal:\n",
    "    def comer(self):\n",
    "        print('El animal esta comiendo')\n",
    "        \n",
    "class Ave(Animal):\n",
    "    def volar(self):\n",
    "        print('El animal esta volando')\n",
    "        \n",
    "class Mamifero(Animal):\n",
    "    def amamantar(self):\n",
    "        print('El animal esta amamantando')\n",
    "        \n",
    "class Murcielago(Mamifero,Ave):\n",
    "    pass\n",
    "\n",
    "murcielago = Murcielago()\n",
    "\n",
    "murcielago.comer()\n",
    "murcielago.amamantar()\n",
    "murcielago.volar()"
   ]
  }
 ],
 "metadata": {
  "kernelspec": {
   "display_name": "Python 3",
   "language": "python",
   "name": "python3"
  },
  "language_info": {
   "codemirror_mode": {
    "name": "ipython",
    "version": 3
   },
   "file_extension": ".py",
   "mimetype": "text/x-python",
   "name": "python",
   "nbconvert_exporter": "python",
   "pygments_lexer": "ipython3",
   "version": "3.12.4"
  }
 },
 "nbformat": 4,
 "nbformat_minor": 2
}
