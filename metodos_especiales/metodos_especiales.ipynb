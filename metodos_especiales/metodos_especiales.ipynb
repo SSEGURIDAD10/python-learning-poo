{
 "cells": [
  {
   "cell_type": "code",
   "execution_count": null,
   "metadata": {},
   "outputs": [],
   "source": [
    "class Persona:\n",
    "    def __init__(self,nombre,edad):\n",
    "        self.nombre = nombre\n",
    "        self.edad = edad\n",
    "    \n",
    "    # Representación de las variables por \"default\"\n",
    "    def __str__(self):\n",
    "        return f'Persona(nombre={self.nombre},edad={self.edad})'\n",
    "    \n",
    "    # Representacion de las variables de otra forma\n",
    "    def __repr__(self):\n",
    "        return f'Persona(\"{self.nombre}\",{self.edad})'\n",
    "    \n",
    "    # Define que sucede con los objetos si los sumo (Sobrecarga de operadores)\n",
    "    def __add__(self, otro):\n",
    "        nuevo_valor = self.edad + otro.edad\n",
    "        return Persona(self.nombre+otro.nombre,nuevo_valor)\n",
    "\n",
    "# __str__\n",
    "luis = Persona(\"Luis\",24)\n",
    "print(luis)\n",
    "\n",
    "# __repr__\n",
    "repre = repr(luis)\n",
    "print(repre)\n",
    "\n",
    "resultado1 = eval(repre)\n",
    "print(resultado1)\n",
    "print(resultado1.edad)\n",
    "\n",
    "# __add__\n",
    "diana = Persona(\"Diana\",25)\n",
    "diego = Persona(\"Diego\",11)\n",
    "\n",
    "nueva_persona = luis + diana + diego\n",
    "print(nueva_persona)\n",
    "print(nueva_persona.nombre)\n",
    "print(nueva_persona.edad)"
   ]
  }
 ],
 "metadata": {
  "kernelspec": {
   "display_name": "Python 3",
   "language": "python",
   "name": "python3"
  },
  "language_info": {
   "codemirror_mode": {
    "name": "ipython",
    "version": 3
   },
   "file_extension": ".py",
   "mimetype": "text/x-python",
   "name": "python",
   "nbconvert_exporter": "python",
   "pygments_lexer": "ipython3",
   "version": "3.12.4"
  }
 },
 "nbformat": 4,
 "nbformat_minor": 2
}
