{
 "cells": [
  {
   "cell_type": "code",
   "execution_count": 2,
   "metadata": {},
   "outputs": [],
   "source": [
    "# SOLID 2\n",
    "#  OCP (Open/Closed Principle)\n",
    "# Esta es una clase \"Padre\" que siempre tendra que ser heredada cuado se usa en este ambito\n",
    "class Notificador:\n",
    "    def __init__(self,usuario,mensaje):\n",
    "        self.usuario = usuario\n",
    "        self.mensaje = mensaje\n",
    "    \n",
    "    # Esto pide al desarrollador crear una funcionalidad o saltara error\n",
    "    def notificar(self):\n",
    "        raise NotImplementedError\n",
    "\n",
    "# Se simula usuario como si fuera un objeto\n",
    "class NotificadorEmail(Notificador):\n",
    "    def Notificar(self):\n",
    "        print(f'Enviando mensaje por Mail a {self.usuario.email}')\n",
    "\n",
    "class NotificadorSMS(Notificador):\n",
    "    def Notificar(self):\n",
    "        print(f'Enviando SMS a {self.usuario.mensaje}')"
   ]
  }
 ],
 "metadata": {
  "kernelspec": {
   "display_name": "Python 3",
   "language": "python",
   "name": "python3"
  },
  "language_info": {
   "codemirror_mode": {
    "name": "ipython",
    "version": 3
   },
   "file_extension": ".py",
   "mimetype": "text/x-python",
   "name": "python",
   "nbconvert_exporter": "python",
   "pygments_lexer": "ipython3",
   "version": "3.12.4"
  }
 },
 "nbformat": 4,
 "nbformat_minor": 2
}
