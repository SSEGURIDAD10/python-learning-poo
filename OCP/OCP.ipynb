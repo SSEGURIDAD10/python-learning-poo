{
 "cells": [
  {
   "cell_type": "code",
   "execution_count": 1,
   "metadata": {},
   "outputs": [],
   "source": [
    "# OCP\n",
    "class Notificador:\n",
    "    def __init__(self,usuario,mensaje):\n",
    "        self.usuario = usuario\n",
    "        self.mensaje = mensaje\n",
    "    \n",
    "    def notificar(self):\n",
    "        raise NotImplementedError\n",
    "\n",
    "#\n",
    "class NotificadorEmail(Notificador):\n",
    "    def Notificar(self):\n",
    "        print(f'Enviando mensaje por Mail a {self.usuario.email}')\n",
    "\n",
    "#        \n",
    "class NotificadorSMS(Notificador):\n",
    "    def Notificar(self):\n",
    "        print(f'Enviando SMS a {self.usuario.mensaje}')"
   ]
  }
 ],
 "metadata": {
  "kernelspec": {
   "display_name": "Python 3",
   "language": "python",
   "name": "python3"
  },
  "language_info": {
   "codemirror_mode": {
    "name": "ipython",
    "version": 3
   },
   "file_extension": ".py",
   "mimetype": "text/x-python",
   "name": "python",
   "nbconvert_exporter": "python",
   "pygments_lexer": "ipython3",
   "version": "3.12.4"
  }
 },
 "nbformat": 4,
 "nbformat_minor": 2
}
