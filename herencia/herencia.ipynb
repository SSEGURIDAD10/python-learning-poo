{
 "cells": [
  {
   "cell_type": "code",
   "execution_count": null,
   "metadata": {},
   "outputs": [],
   "source": [
    "# Herencia simple\n",
    "class Persona:\n",
    "    def __init__(self,nombre,edad,nacionalidad):\n",
    "        self.nombre = nombre\n",
    "        self.edad = edad\n",
    "        self.nacionalidad = nacionalidad\n",
    "        \n",
    "    def hablar(self):\n",
    "        print(f\"Hola soy {self.nombre} y estoy hablando desde el metodo heredado a la clase Empleado\")\n",
    "\n",
    "class Empleado(Persona):\n",
    "    def __init__(self,nombre,edad,nacionalidad,trabajo,salario):\n",
    "        super().__init__(nombre,edad,nacionalidad)\n",
    "        self.trabajo = trabajo\n",
    "        self.salario = salario\n",
    "        \n",
    "    # Metodos y propiedades pueden ser editados\n",
    "    def hablar(self):\n",
    "        print(f\"Reescribi el metodo, tengo {self.edad} años\")\n",
    "        \n",
    "\n",
    "gerardo = Empleado(\"Gerardo\",23,\"Mexicano\",\"Desarrollador\",100000)\n",
    "\n",
    "gerardo.hablar()"
   ]
  }
 ],
 "metadata": {
  "kernelspec": {
   "display_name": "Python 3",
   "language": "python",
   "name": "python3"
  },
  "language_info": {
   "codemirror_mode": {
    "name": "ipython",
    "version": 3
   },
   "file_extension": ".py",
   "mimetype": "text/x-python",
   "name": "python",
   "nbconvert_exporter": "python",
   "pygments_lexer": "ipython3",
   "version": "3.12.4"
  }
 },
 "nbformat": 4,
 "nbformat_minor": 2
}
