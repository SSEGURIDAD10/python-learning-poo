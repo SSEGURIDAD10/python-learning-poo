{
 "cells": [
  {
   "cell_type": "code",
   "execution_count": 17,
   "metadata": {},
   "outputs": [
    {
     "name": "stdout",
     "output_type": "stream",
     "text": [
      "Reescribi el metodo en la clase Empleado, tengo un salario de $100000 USD anuales\n"
     ]
    }
   ],
   "source": [
    "# Herencia simple\n",
    "class Persona:\n",
    "    def __init__(self,nombre,edad,nacionalidad):\n",
    "        self.nombre = nombre\n",
    "        self.edad = edad\n",
    "        self.nacionalidad = nacionalidad\n",
    "        \n",
    "    def hablar(self):\n",
    "        print(f\"Hola soy {self.nombre} y estoy hablando desde el metodo heredado a la clase Empleado\")\n",
    "\n",
    "class Empleado(Persona):\n",
    "    def __init__(self,nombre,edad,nacionalidad,trabajo,salario,*args,**kwargs):\n",
    "        super().__init__(nombre,edad,nacionalidad)\n",
    "        self.trabajo = trabajo\n",
    "        self.salario = salario\n",
    "        \n",
    "    # Metodos y propiedades pueden ser editados\n",
    "    def hablar(self):\n",
    "        print(f\"Reescribi el metodo en la clase Empleado, tengo un salario de ${self.salario} USD anuales\")\n",
    "        \n",
    "class Estudiante(Empleado):\n",
    "    def __init__(self,nombre,edad,nacionalidad,trabajo,salario,matricula,universidad):\n",
    "        super().__init__(nombre,edad,nacionalidad,trabajo,salario)\n",
    "        self.matricula = matricula\n",
    "        self.universidad = universidad\n",
    "\n",
    "class Pasatiempo(Empleado):\n",
    "    def __init__(self,nombre,edad,nacionalidad,trabajo,salario,matricula,universidad,pasatiempo,*args,**kwargs):\n",
    "        super().__init__(nombre,edad,nacionalidad,trabajo,salario,matricula,universidad)\n",
    "        self.pasatiempo = pasatiempo\n",
    "        \n",
    "    def hablar(self):\n",
    "        print(f\"Mi pasa tiemmpo favorito es {self.pasatiempo}\")\n",
    "        \n",
    "gerardo = Pasatiempo(\"Gerardo\",23,\"Mexicano\",\"Desarrollador\",100000,\"010168955\",\"UVM, San Rafael\",\"programar\")\n",
    "\n",
    "gerardo.hablar()"
   ]
  }
 ],
 "metadata": {
  "kernelspec": {
   "display_name": "Python 3",
   "language": "python",
   "name": "python3"
  },
  "language_info": {
   "codemirror_mode": {
    "name": "ipython",
    "version": 3
   },
   "file_extension": ".py",
   "mimetype": "text/x-python",
   "name": "python",
   "nbconvert_exporter": "python",
   "pygments_lexer": "ipython3",
   "version": "3.12.4"
  }
 },
 "nbformat": 4,
 "nbformat_minor": 2
}
