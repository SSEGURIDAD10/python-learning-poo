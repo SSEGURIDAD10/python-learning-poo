{
 "cells": [
  {
   "cell_type": "code",
   "execution_count": null,
   "metadata": {},
   "outputs": [],
   "source": [
    "# Creacion de una clase\n",
    "class Celular:\n",
    "    # Constructor\n",
    "    def __init__(self, marca, modelo, camara):\n",
    "        self.marca = marca\n",
    "        self.modelo = modelo\n",
    "        self.camara = camara\n",
    "    \n",
    "    # Metodos    \n",
    "    def llamar(self):\n",
    "        print(f\"Estas haciendo un llamado desde un {self.modelo}\")\n",
    "            \n",
    "    def cortar(self):\n",
    "        print(f\"Cortaste la llamada desde tu {self.modelo}\")\n",
    "\n",
    "# Objetos\n",
    "celular1 = Celular(\"Samsung\",\"S24\",\"48MP\")\n",
    "celular2 = Celular(\"Apple\",\"iPhone14\",\"48MP\")\n",
    "\n",
    "# Asi se manda a llamar\n",
    "celular1.llamar()"
   ]
  }
 ],
 "metadata": {
  "kernelspec": {
   "display_name": "Python 3",
   "language": "python",
   "name": "python3"
  },
  "language_info": {
   "codemirror_mode": {
    "name": "ipython",
    "version": 3
   },
   "file_extension": ".py",
   "mimetype": "text/x-python",
   "name": "python",
   "nbconvert_exporter": "python",
   "pygments_lexer": "ipython3",
   "version": "3.12.4"
  }
 },
 "nbformat": 4,
 "nbformat_minor": 2
}
