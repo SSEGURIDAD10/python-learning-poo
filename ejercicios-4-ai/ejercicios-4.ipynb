{
 "cells": [
  {
   "cell_type": "code",
   "execution_count": null,
   "metadata": {},
   "outputs": [],
   "source": [
    "# AI TextBlob\n",
    "# pip install textblob\n",
    "from textblob import TextBlob\n",
    "\n",
    "class AnalizadorDeSentimientos:\n",
    "    def analizar_sentimiento(self, texto):\n",
    "        analisis = TextBlob(texto)\n",
    "        if analisis.sentiment.polarity > 0:\n",
    "            return 'Positivo'\n",
    "        elif analisis.sentiment.polarity == 0:\n",
    "            return 'Neutral'\n",
    "        else:\n",
    "            return 'Negativo'\n",
    "\n",
    "analizador = AnalizadorDeSentimientos()\n",
    "resultado = analizador.analizar_sentimiento('Im happy')\n",
    "resultado2 = analizador.analizar_sentimiento('Im bad')\n",
    "print(resultado, resultado2)"
   ]
  },
  {
   "cell_type": "code",
   "execution_count": null,
   "metadata": {},
   "outputs": [],
   "source": [
    "# AI OpenaAI\n",
    "# pip install openai\n",
    "import openai\n",
    "from claveSegura import claveApi\n",
    "\n",
    "openai.api_key = claveApi\n",
    "\n",
    "system_rol = 'Aqui se escribe el prompt para que la AI sepa que hacer, comportarse'\n",
    "\n",
    "mensajes = [{'role': 'system', 'content': system_rol}]\n",
    "\n",
    "class AnalizadorDeSentimientos:\n",
    "    def analizar_sentimientos(self, polaridad):\n",
    "        if polaridad > -0.6 and polaridad <= -0.3:\n",
    "            return \"\\x1b[31m\" + 'Negativo'\n",
    "        elif polaridad > -0.3 and polaridad < 0:\n",
    "            return '\\x1b[33m' + 'Algo ' + '\\x1b[31m' + 'Negativo'\n",
    "        elif polaridad >= 0.0 and polaridad <= 0.1:\n",
    "            return \"\\x1b[33m\" + 'Neutral'\n",
    "        elif polaridad > 0.1 and polaridad <= 0.29:\n",
    "            return '\\x1b[33m' + 'Algo ' + '\\x1b[32m' + 'Positivo'\n",
    "        elif polaridad >= 0.3 and polaridad <= 0.49:\n",
    "            return \"\\x1b[32m\" + 'Positivo'\n",
    "        elif polaridad >= 0.5:\n",
    "            return \"\\x1b[32m\" + 'Muy positivo'\n",
    "        else:\n",
    "            return '\\x1b[31m' + 'Muy Negativo'\n",
    "\n",
    "analizador = AnalizadorDeSentimientos()\n",
    "resultado = analizador.analizar_sentimientos(0.2)\n",
    "print(resultado)"
   ]
  }
 ],
 "metadata": {
  "kernelspec": {
   "display_name": "Python 3",
   "language": "python",
   "name": "python3"
  },
  "language_info": {
   "codemirror_mode": {
    "name": "ipython",
    "version": 3
   },
   "file_extension": ".py",
   "mimetype": "text/x-python",
   "name": "python",
   "nbconvert_exporter": "python",
   "pygments_lexer": "ipython3",
   "version": "3.12.4"
  }
 },
 "nbformat": 4,
 "nbformat_minor": 2
}
