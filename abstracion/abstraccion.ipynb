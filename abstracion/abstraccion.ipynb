{
 "cells": [
  {
   "cell_type": "code",
   "execution_count": null,
   "metadata": {},
   "outputs": [],
   "source": [
    "# Ejemplo de abstraccion\n",
    "class Auto():\n",
    "    def __init__(self):\n",
    "        self._estado = \"apagado\"\n",
    "    \n",
    "    def encender(self):\n",
    "        self._estado = \"encendido\"\n",
    "        print(\"El auto esta encendido\")\n",
    "    \n",
    "    def conducir(self):\n",
    "        if self._estado == \"apagado\":\n",
    "            self.encender()\n",
    "        print(\"Conduciendo\")\n",
    "        \n",
    "mi_auto = Auto()\n",
    "\n",
    "# Realizar lo siguiente es un ejemplo de abstraccion, ya que no conoces las validaciones internas de conducir()\n",
    "mi_auto.conducir()"
   ]
  }
 ],
 "metadata": {
  "kernelspec": {
   "display_name": "Python 3",
   "language": "python",
   "name": "python3"
  },
  "language_info": {
   "codemirror_mode": {
    "name": "ipython",
    "version": 3
   },
   "file_extension": ".py",
   "mimetype": "text/x-python",
   "name": "python",
   "nbconvert_exporter": "python",
   "pygments_lexer": "ipython3",
   "version": "3.12.4"
  }
 },
 "nbformat": 4,
 "nbformat_minor": 2
}
