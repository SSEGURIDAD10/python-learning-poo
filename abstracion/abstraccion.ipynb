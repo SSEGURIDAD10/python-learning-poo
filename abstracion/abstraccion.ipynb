{
 "cells": [
  {
   "cell_type": "code",
   "execution_count": null,
   "metadata": {},
   "outputs": [],
   "source": [
    "# Ejemplo de abstraccion\n",
    "class Auto():\n",
    "    def __init__(self):\n",
    "        self._estado = \"apagado\"\n",
    "    \n",
    "    def encender(self):\n",
    "        self._estado = \"encendido\"\n",
    "        print(\"El auto esta encendido\")\n",
    "    \n",
    "    def conducir(self):\n",
    "        if self._estado == \"apagado\":\n",
    "            self.encender()\n",
    "        print(\"Conduciendo\")\n",
    "        \n",
    "mi_auto = Auto()\n",
    "\n",
    "# Realizar lo siguiente es un ejemplo de abstraccion, ya que no conoces las validaciones internas de conducir()\n",
    "mi_auto.conducir()"
   ]
  },
  {
   "cell_type": "code",
   "execution_count": null,
   "metadata": {},
   "outputs": [],
   "source": [
    "# Clases Abstractas\n",
    "from abc import ABC, abstractmethod\n",
    "\n",
    "class Persona(ABC):\n",
    "    @abstractmethod\n",
    "    def __init__(self,nombre,edad,sexo,actividad):\n",
    "        self.nombre = nombre\n",
    "        self.edad = edad\n",
    "        self.sexo = sexo\n",
    "        self.actividad = actividad\n",
    "\n",
    "    @abstractmethod\n",
    "    def trabajar(self):\n",
    "        pass\n",
    "\n",
    "    def presentarse(self):\n",
    "        print(f'Hola, me llamo: {self.nombre} y tengo {self.edad} años')\n",
    "\n",
    "gerardo = Persona('Gerardo',24,'Masculino','Desarrollador')"
   ]
  }
 ],
 "metadata": {
  "kernelspec": {
   "display_name": "Python 3",
   "language": "python",
   "name": "python3"
  },
  "language_info": {
   "codemirror_mode": {
    "name": "ipython",
    "version": 3
   },
   "file_extension": ".py",
   "mimetype": "text/x-python",
   "name": "python",
   "nbconvert_exporter": "python",
   "pygments_lexer": "ipython3",
   "version": "3.12.4"
  }
 },
 "nbformat": 4,
 "nbformat_minor": 2
}
