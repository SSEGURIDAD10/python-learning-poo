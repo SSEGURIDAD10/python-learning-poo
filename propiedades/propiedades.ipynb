{
 "cells": [
  {
   "cell_type": "code",
   "execution_count": 1,
   "metadata": {},
   "outputs": [
    {
     "name": "stdout",
     "output_type": "stream",
     "text": [
      "<bound method Persona.get_nombre of <__main__.Persona object at 0x0000017EC9269220>>\n"
     ]
    }
   ],
   "source": [
    "class Persona:\n",
    "    def __init__(self,nombre,edad):\n",
    "        self.__nombre = nombre\n",
    "        self._edad = edad\n",
    "      \n",
    "    @property  \n",
    "    def get_nombre(self):\n",
    "        return self.__nombre\n",
    "\n",
    "    \n",
    "gerardo = Persona(\"Gerardo\", 23)\n",
    "\n",
    "nombre = gerardo.get_nombre\n",
    "print(nombre)"
   ]
  }
 ],
 "metadata": {
  "kernelspec": {
   "display_name": "Python 3",
   "language": "python",
   "name": "python3"
  },
  "language_info": {
   "codemirror_mode": {
    "name": "ipython",
    "version": 3
   },
   "file_extension": ".py",
   "mimetype": "text/x-python",
   "name": "python",
   "nbconvert_exporter": "python",
   "pygments_lexer": "ipython3",
   "version": "3.12.4"
  }
 },
 "nbformat": 4,
 "nbformat_minor": 2
}
