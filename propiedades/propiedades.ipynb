{
 "cells": [
  {
   "cell_type": "code",
   "execution_count": null,
   "metadata": {},
   "outputs": [],
   "source": [
    "class Persona:\n",
    "    def __init__(self,nombre,edad):\n",
    "        self.__nombre = nombre\n",
    "        self._edad = edad\n",
    "      \n",
    "    @property  \n",
    "    def nombre(self):\n",
    "        return self.__nombre\n",
    "    \n",
    "    @nombre.setter\n",
    "    def nombre(self, new_name):\n",
    "        self.__nombre = new_name\n",
    "        \n",
    "    @nombre.deleter\n",
    "    def borrar(self, new_name):\n",
    "        del self.__nombre\n",
    "\n",
    "    \n",
    "gerardo = Persona(\"Gerardo\", 23)\n",
    "\n",
    "nombre = gerardo.nombre\n",
    "print(nombre)\n",
    "\n",
    "gerardo.nombre = \"Luis\"\n",
    "nombre = gerardo.nombre\n",
    "print(nombre)\n",
    "\n",
    "# Asi se borraria una propiedad\n",
    "# del gerardo.nombre"
   ]
  }
 ],
 "metadata": {
  "kernelspec": {
   "display_name": "Python 3",
   "language": "python",
   "name": "python3"
  },
  "language_info": {
   "codemirror_mode": {
    "name": "ipython",
    "version": 3
   },
   "file_extension": ".py",
   "mimetype": "text/x-python",
   "name": "python",
   "nbconvert_exporter": "python",
   "pygments_lexer": "ipython3",
   "version": "3.12.4"
  }
 },
 "nbformat": 4,
 "nbformat_minor": 2
}
