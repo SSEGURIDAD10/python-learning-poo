{
 "cells": [
  {
   "cell_type": "code",
   "execution_count": null,
   "metadata": {},
   "outputs": [],
   "source": [
    "class TanqueDeCombustible:\n",
    "    def __init__(self):\n",
    "        self.combustible = 100\n",
    "    \n",
    "    def agregar_combustible(self,cantidad):\n",
    "        self.combustible += cantidad\n",
    "        \n",
    "    def obtener_combustible(self):\n",
    "        return self.combustible\n",
    "    \n",
    "    def usar_combustible(self, cantidad):\n",
    "        self.combustible -= cantidad\n",
    "        \n",
    "class Auto():\n",
    "    def __init__(self,tanque):\n",
    "        self.posicion = 0\n",
    "        self.tanque = tanque\n",
    "    \n",
    "    def mover(self, distancia):\n",
    "        if self.tanque.obtener_combustible() >= distancia / 2:\n",
    "            self.posicion += distancia\n",
    "            self.tanque.usar_combustible(distancia / 2)\n",
    "            print('El auto se movio...')\n",
    "        else:\n",
    "            print('No hay combustible')\n",
    "    \n",
    "    def obtener_posicion(self):\n",
    "        return self.posicion\n",
    "            \n",
    "tanque = TanqueDeCombustible()\n",
    "automovil = Auto(tanque)\n",
    "\n",
    "print(automovil.obtener_posicion())\n",
    "automovil.mover(10)\n",
    "print(automovil.obtener_posicion())\n",
    "automovil.mover(20)\n",
    "print(automovil.obtener_posicion())\n",
    "automovil.mover(60)\n",
    "print(automovil.obtener_posicion())\n",
    "automovil.mover(100)\n",
    "print(automovil.obtener_posicion())\n",
    "automovil.mover(100)\n",
    "print(automovil.obtener_posicion())"
   ]
  }
 ],
 "metadata": {
  "kernelspec": {
   "display_name": "Python 3",
   "language": "python",
   "name": "python3"
  },
  "language_info": {
   "codemirror_mode": {
    "name": "ipython",
    "version": 3
   },
   "file_extension": ".py",
   "mimetype": "text/x-python",
   "name": "python",
   "nbconvert_exporter": "python",
   "pygments_lexer": "ipython3",
   "version": "3.12.4"
  }
 },
 "nbformat": 4,
 "nbformat_minor": 2
}
