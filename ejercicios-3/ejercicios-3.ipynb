{
 "cells": [
  {
   "cell_type": "code",
   "execution_count": null,
   "metadata": {},
   "outputs": [],
   "source": [
    "# Fusion de habilidades\n",
    "\n",
    "class Personaje:\n",
    "    def __init__(self, nombre, fuerza, velocidad):\n",
    "        self.nombre = nombre\n",
    "        self.fuerza = fuerza\n",
    "        self.velocidad = velocidad\n",
    "        \n",
    "    def __repr__(self):\n",
    "        return f'{self.nombre}\\n\\tFuerza: {self.fuerza}\\n\\tVelocidad: {self.velocidad}'\n",
    "    \n",
    "    def __add__(self,otro_pj):\n",
    "        nuevo_nombre = self.nombre +'-'+ otro_pj.nombre\n",
    "        nueva_fuerza = ((self.fuerza + otro_pj.fuerza)/2)**2\n",
    "        nueva_velocidad = ((self.velocidad + otro_pj.velocidad)/2)**2\n",
    "        return Personaje(nuevo_nombre,nueva_fuerza,nueva_velocidad)\n",
    "    \n",
    "goku = Personaje('Goku',120, 110)\n",
    "vegeta = Personaje('Vegeta',115, 105)\n",
    "\n",
    "gogeta = goku + vegeta\n",
    "print(gogeta)"
   ]
  }
 ],
 "metadata": {
  "kernelspec": {
   "display_name": "Python 3",
   "language": "python",
   "name": "python3"
  },
  "language_info": {
   "codemirror_mode": {
    "name": "ipython",
    "version": 3
   },
   "file_extension": ".py",
   "mimetype": "text/x-python",
   "name": "python",
   "nbconvert_exporter": "python",
   "pygments_lexer": "ipython3",
   "version": "3.12.4"
  }
 },
 "nbformat": 4,
 "nbformat_minor": 2
}
