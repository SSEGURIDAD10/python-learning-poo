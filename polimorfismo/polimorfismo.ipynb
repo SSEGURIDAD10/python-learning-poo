{
 "cells": [
  {
   "cell_type": "code",
   "execution_count": null,
   "metadata": {},
   "outputs": [],
   "source": [
    "# Polimorfismo de herencia\n",
    "\n",
    "class Gato():\n",
    "    def sonido(self):\n",
    "        return 'Miau'\n",
    "    \n",
    "class Perro():\n",
    "    def sonido(self):\n",
    "        return 'Guau'\n",
    "    \n",
    "def hacer_sonido(animal):\n",
    "    print(animal.sonido())\n",
    "\n",
    "gato = Gato()\n",
    "perro = Perro()\n",
    "\n",
    "hacer_sonido(gato)\n",
    "\n",
    "print(perro.sonido())"
   ]
  },
  {
   "cell_type": "code",
   "execution_count": null,
   "metadata": {},
   "outputs": [],
   "source": [
    "# Otro tipo de polimorfismo\n",
    "\n",
    "def recorrer(elemento):\n",
    "    for item in elemento:\n",
    "        print(f'El elemento es: {item}')\n",
    "        \n",
    "lista = [1,2,3,4,5]\n",
    "lista2 = ['Hola','Hola 2', 'Hola 3']\n",
    "\n",
    "recorrer(lista2)"
   ]
  },
  {
   "cell_type": "code",
   "execution_count": 50,
   "metadata": {},
   "outputs": [
    {
     "name": "stdout",
     "output_type": "stream",
     "text": [
      "Diego Paolo\n"
     ]
    },
    {
     "ename": "AttributeError",
     "evalue": "'Bus' object has no attribute 'index'",
     "output_type": "error",
     "traceback": [
      "\u001b[1;31m---------------------------------------------------------------------------\u001b[0m",
      "\u001b[1;31mAttributeError\u001b[0m                            Traceback (most recent call last)",
      "Cell \u001b[1;32mIn[50], line 24\u001b[0m\n\u001b[0;32m     22\u001b[0m \u001b[38;5;66;03m# Aqui se usa __getitem__\u001b[39;00m\n\u001b[0;32m     23\u001b[0m \u001b[38;5;28mprint\u001b[39m(bus[\u001b[38;5;241m2\u001b[39m])\n\u001b[1;32m---> 24\u001b[0m conteo \u001b[38;5;241m=\u001b[39m \u001b[43mbus\u001b[49m\u001b[38;5;241;43m.\u001b[39;49m\u001b[43mindex\u001b[49m\n\u001b[0;32m     25\u001b[0m \u001b[38;5;28mprint\u001b[39m(conteo[\u001b[38;5;241m1\u001b[39m])\n\u001b[0;32m     26\u001b[0m \u001b[38;5;66;03m# Aqui se usa __len__\u001b[39;00m\n",
      "\u001b[1;31mAttributeError\u001b[0m: 'Bus' object has no attribute 'index'"
     ]
    }
   ],
   "source": [
    "class Bus:\n",
    "    def __init__(self):\n",
    "        self.pasajeros = list()\n",
    "    \n",
    "    def add_pasajeros(self, pasajero):\n",
    "        self.pasajeros.append(pasajero)\n",
    "    \n",
    "    # Este metodo hace posible usar bus[0]\n",
    "    def __getitem__(self,asiento):\n",
    "        return self.pasajeros[asiento]\n",
    "    \n",
    "    # Este metodo cuenta el numero de objetos\n",
    "    def __len__(self):\n",
    "        return len(self.pasajeros)\n",
    "\n",
    "bus = Bus()\n",
    "\n",
    "bus.add_pasajeros(\"Gerardo Villagran\")\n",
    "bus.add_pasajeros(\"Diana Mendez\")\n",
    "bus.add_pasajeros(\"Diego Paolo\")\n",
    "\n",
    "# Aqui se usa __getitem__\n",
    "print(bus[2])\n",
    "\n",
    "# Aqui se usa __len__\n",
    "print(f'Exiten {len(bus)} personas registradas')"
   ]
  }
 ],
 "metadata": {
  "kernelspec": {
   "display_name": "Python 3",
   "language": "python",
   "name": "python3"
  },
  "language_info": {
   "codemirror_mode": {
    "name": "ipython",
    "version": 3
   },
   "file_extension": ".py",
   "mimetype": "text/x-python",
   "name": "python",
   "nbconvert_exporter": "python",
   "pygments_lexer": "ipython3",
   "version": "3.12.4"
  }
 },
 "nbformat": 4,
 "nbformat_minor": 2
}
