{
 "cells": [
  {
   "cell_type": "code",
   "execution_count": null,
   "metadata": {},
   "outputs": [],
   "source": [
    "# Polimorfismo de herencia\n",
    "\n",
    "class Gato():\n",
    "    def sonido(self):\n",
    "        return 'Miau'\n",
    "    \n",
    "class Perro():\n",
    "    def sonido(self):\n",
    "        return 'Guau'\n",
    "    \n",
    "def hacer_sonido(animal):\n",
    "    print(animal.sonido())\n",
    "\n",
    "gato = Gato()\n",
    "perro = Perro()\n",
    "\n",
    "hacer_sonido(gato)\n",
    "\n",
    "print(perro.sonido())"
   ]
  },
  {
   "cell_type": "code",
   "execution_count": null,
   "metadata": {},
   "outputs": [],
   "source": [
    "# Otro tipo de polimorfismo\n",
    "\n",
    "def recorrer(elemento):\n",
    "    for item in elemento:\n",
    "        print(f'El elemento es: {item}')\n",
    "        \n",
    "lista = [1,2,3,4,5]\n",
    "lista2 = ['Hola','Hola 2', 'Hola 3']\n",
    "\n",
    "recorrer(lista2)"
   ]
  },
  {
   "cell_type": "code",
   "execution_count": 22,
   "metadata": {},
   "outputs": [
    {
     "ename": "IndexError",
     "evalue": "list index out of range",
     "output_type": "error",
     "traceback": [
      "\u001b[1;31m---------------------------------------------------------------------------\u001b[0m",
      "\u001b[1;31mIndexError\u001b[0m                                Traceback (most recent call last)",
      "Cell \u001b[1;32mIn[22], line 17\u001b[0m\n\u001b[0;32m     14\u001b[0m bus\u001b[38;5;241m.\u001b[39madd_pasajeros(\u001b[38;5;124m\"\u001b[39m\u001b[38;5;124mDiana Mendez\u001b[39m\u001b[38;5;124m\"\u001b[39m)\n\u001b[0;32m     15\u001b[0m bus\u001b[38;5;241m.\u001b[39madd_pasajeros(\u001b[38;5;124m\"\u001b[39m\u001b[38;5;124mDiego Paolo\u001b[39m\u001b[38;5;124m\"\u001b[39m)\n\u001b[1;32m---> 17\u001b[0m \u001b[38;5;28mprint\u001b[39m(\u001b[43mbus\u001b[49m\u001b[43m[\u001b[49m\u001b[38;5;241;43m2\u001b[39;49m\u001b[43m]\u001b[49m)\n\u001b[0;32m     18\u001b[0m \u001b[38;5;28mprint\u001b[39m(bus\u001b[38;5;241m.\u001b[39m\u001b[38;5;21m__getitem__\u001b[39m(\u001b[38;5;241m1\u001b[39m))\n",
      "Cell \u001b[1;32mIn[22], line 9\u001b[0m, in \u001b[0;36mBus.__getitem__\u001b[1;34m(self, asiento)\u001b[0m\n\u001b[0;32m      8\u001b[0m \u001b[38;5;28;01mdef\u001b[39;00m \u001b[38;5;21m__getitem__\u001b[39m(\u001b[38;5;28mself\u001b[39m,asiento):\n\u001b[1;32m----> 9\u001b[0m     \u001b[38;5;28;01mreturn\u001b[39;00m \u001b[38;5;28;43mself\u001b[39;49m\u001b[38;5;241;43m.\u001b[39;49m\u001b[43mpasajeros\u001b[49m\u001b[43m[\u001b[49m\u001b[38;5;241;43m1\u001b[39;49m\u001b[38;5;241;43m+\u001b[39;49m\u001b[43masiento\u001b[49m\u001b[43m]\u001b[49m\n",
      "\u001b[1;31mIndexError\u001b[0m: list index out of range"
     ]
    }
   ],
   "source": [
    "class Bus:\n",
    "    def __init__(self):\n",
    "        self.pasajeros = list()\n",
    "    \n",
    "    def add_pasajeros(self, pasajero):\n",
    "        self.pasajeros.append(pasajero)\n",
    "    \n",
    "    def __getitem__(self,asiento):\n",
    "        return self.pasajeros[asiento]\n",
    "\n",
    "bus = Bus()\n",
    "\n",
    "bus.add_pasajeros(\"Gerardo Villagran\")\n",
    "bus.add_pasajeros(\"Diana Mendez\")\n",
    "bus.add_pasajeros(\"Diego Paolo\")\n",
    "\n",
    "print(bus[2])\n",
    "print(bus.__getitem__(1))"
   ]
  }
 ],
 "metadata": {
  "kernelspec": {
   "display_name": "Python 3",
   "language": "python",
   "name": "python3"
  },
  "language_info": {
   "codemirror_mode": {
    "name": "ipython",
    "version": 3
   },
   "file_extension": ".py",
   "mimetype": "text/x-python",
   "name": "python",
   "nbconvert_exporter": "python",
   "pygments_lexer": "ipython3",
   "version": "3.12.4"
  }
 },
 "nbformat": 4,
 "nbformat_minor": 2
}
