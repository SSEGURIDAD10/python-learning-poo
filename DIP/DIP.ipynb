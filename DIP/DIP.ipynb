{
 "cells": [
  {
   "cell_type": "code",
   "execution_count": 2,
   "metadata": {},
   "outputs": [],
   "source": [
    "# SOLID 5\n",
    "# DIP (Dependency Inversion Principle)\n",
    "\n",
    "# Mala practica\n",
    "class Diccionario:\n",
    "    def verificar_palabra(self, palabra):\n",
    "        #logina para verificar palabras\n",
    "        pass\n",
    "\n",
    "class CorrectorOrtorafico:\n",
    "    def __init__(self):\n",
    "        self.diccionario = Diccionario()\n",
    "        \n",
    "    def corregir_texto(self,texto):\n",
    "        # Usamos diccionario para corregir el texto\n",
    "        pass"
   ]
  },
  {
   "cell_type": "code",
   "execution_count": 6,
   "metadata": {},
   "outputs": [],
   "source": [
    "from abc import ABC, abstractmethod\n",
    "\n",
    "class VerificardorOrtografico(ABC):\n",
    "    @abstractmethod\n",
    "    def verficar_palabra(self, palabra):\n",
    "        pass\n",
    "\n",
    "class Diccionario(VerificardorOrtografico):\n",
    "    def verificar_palabra(self, palabra):\n",
    "        # Logica oara verificar palabra si esta en diccionario\n",
    "        pass\n",
    "\n",
    "class ServicioOnline(VerificardorOrtografico):\n",
    "    def verficar_palabra(self, palabra):\n",
    "        # Logica para verificar palabras desde el servicio web\n",
    "        pass\n",
    "\n",
    "class CorrectorOrtorafico:\n",
    "    def __init__(self, verificador):\n",
    "        self.verificador = verificador\n",
    "        \n",
    "    def corregir_texto(self,texto):\n",
    "        # Usamos verificador para corregir el texto\n",
    "        pass\n"
   ]
  }
 ],
 "metadata": {
  "kernelspec": {
   "display_name": "Python 3",
   "language": "python",
   "name": "python3"
  },
  "language_info": {
   "codemirror_mode": {
    "name": "ipython",
    "version": 3
   },
   "file_extension": ".py",
   "mimetype": "text/x-python",
   "name": "python",
   "nbconvert_exporter": "python",
   "pygments_lexer": "ipython3",
   "version": "3.12.4"
  }
 },
 "nbformat": 4,
 "nbformat_minor": 2
}
