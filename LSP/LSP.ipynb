{
 "cells": [
  {
   "cell_type": "code",
   "execution_count": null,
   "metadata": {},
   "outputs": [],
   "source": [
    "# Una fomra de NO hacerlo\n",
    "class Ave:\n",
    "    def volar(self):\n",
    "        return \"Estoy volando\"\n",
    "\n",
    "class Pinguino(Ave):\n",
    "    def volar(self):\n",
    "        return \"No puedo volar\"\n",
    "\n",
    "def hacer_volar(ave = Ave):\n",
    "    return ave.volar()\n",
    "\n",
    "print(hacer_volar(Pinguino()))"
   ]
  },
  {
   "cell_type": "code",
   "execution_count": null,
   "metadata": {},
   "outputs": [],
   "source": [
    "# SOLID 3\n",
    "# LSP (Liskob's Substitucion Principle)\n",
    "class Ave:\n",
    "    pass\n",
    "\n",
    "class Ave_Voladora(Ave):\n",
    "    def volar(self):\n",
    "        return 'Estoy volando'\n",
    "\n",
    "class Ave_No_Voladora(Ave):\n",
    "    def volar(self):\n",
    "        return 'No vuelo'"
   ]
  }
 ],
 "metadata": {
  "kernelspec": {
   "display_name": "Python 3",
   "language": "python",
   "name": "python3"
  },
  "language_info": {
   "codemirror_mode": {
    "name": "ipython",
    "version": 3
   },
   "file_extension": ".py",
   "mimetype": "text/x-python",
   "name": "python",
   "nbconvert_exporter": "python",
   "pygments_lexer": "ipython3",
   "version": "3.12.4"
  }
 },
 "nbformat": 4,
 "nbformat_minor": 2
}
