{
 "cells": [
  {
   "cell_type": "code",
   "execution_count": null,
   "metadata": {},
   "outputs": [],
   "source": [
    "# La manera de crear un atributo privado(o protegido para otros lenguajes) es con un guion bajo _ ; Ejemplo: self._ejemplo = \"Ejemplo1\" (Se pi)\n",
    "# La manera de crear un atributo muy privado(o privado para otros lenguajes) es con doble guion bajo __ ; Ejemplo: self.__ejemplo2 = \"Ejemplo2\" \n",
    "class MiClase:\n",
    "    def __init__(self):\n",
    "        self._atributo_privado = \"Valor\"\n",
    "    \n",
    "    def __hablar(self):\n",
    "        print('Hola, mi nombre es Gerardo')\n",
    "\n",
    "\n",
    "objeto = MiClase()\n",
    "\n",
    "# Se puede acceder a un _atributo_privado pero no a uno __muy_privado\n",
    "print(objeto._atributo_privado)\n",
    "\n",
    "# No se podra acceder ya que es un metodo muy privado, de los cuales tambien existen los _privados\n",
    "print(objeto.__hablar())"
   ]
  },
  {
   "cell_type": "code",
   "execution_count": null,
   "metadata": {},
   "outputs": [],
   "source": [
    "# Como acceder a un atributo privado con getters y setters\n",
    "class Persona:\n",
    "    def __init__(self,nombre,edad):\n",
    "        self.__nombre = nombre\n",
    "        self._edad = edad\n",
    "        \n",
    "    def get_nombre(self):\n",
    "        return self.__nombre\n",
    "    \n",
    "    def set_nombre(self, new_nombre):\n",
    "        self.__nombre = new_nombre\n",
    "    \n",
    "gerardo = Persona(\"Gerardo\", 23)\n",
    "\n",
    "nombre = gerardo.get_nombre()\n",
    "print(nombre)\n",
    "\n",
    "# Esto no se pueda ya que es un atributo muy privado\n",
    "# print(gerardo.__nombre)\n",
    "\n",
    "# Se utiliza metodo set para cambiar el nombre, se vuelve a llamar el nombre y se muestra\n",
    "gerardo.set_nombre('Luis')\n",
    "nombre = gerardo.get_nombre()\n",
    "print(nombre)\n",
    "# Privacidad en Python: Los atributos con dos guiones bajos son pseudo-privados y utilizan name mangling para evitar accesos accidentales."
   ]
  }
 ],
 "metadata": {
  "kernelspec": {
   "display_name": "Python 3",
   "language": "python",
   "name": "python3"
  },
  "language_info": {
   "codemirror_mode": {
    "name": "ipython",
    "version": 3
   },
   "file_extension": ".py",
   "mimetype": "text/x-python",
   "name": "python",
   "nbconvert_exporter": "python",
   "pygments_lexer": "ipython3",
   "version": "3.12.4"
  }
 },
 "nbformat": 4,
 "nbformat_minor": 2
}
