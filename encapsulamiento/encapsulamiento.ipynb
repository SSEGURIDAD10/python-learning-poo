{
 "cells": [
  {
   "cell_type": "code",
   "execution_count": null,
   "metadata": {},
   "outputs": [],
   "source": [
    "# La manera de crear un atributo privado(o protegido para otros lenguajes) es con un guion bajo _ ; Ejemplo: self._ejemplo = \"Ejemplo1\" (Se pi)\n",
    "# La manera de crear un atributo muy privado(o privado para otros lenguajes) es con doble guion bajo __ ; Ejemplo: self.__ejemplo2 = \"Ejemplo2\" \n",
    "class MiClase:\n",
    "    def __init__(self):\n",
    "        self._atributo_privado = \"Valor\"\n",
    "\n",
    "\n",
    "objeto = MiClase()\n",
    "\n",
    "# Se puede acceder a un _atributo_privado pero no a uno __muy_privado\n",
    "print(objeto._atributo_privado)"
   ]
  }
 ],
 "metadata": {
  "kernelspec": {
   "display_name": "Python 3",
   "language": "python",
   "name": "python3"
  },
  "language_info": {
   "codemirror_mode": {
    "name": "ipython",
    "version": 3
   },
   "file_extension": ".py",
   "mimetype": "text/x-python",
   "name": "python",
   "nbconvert_exporter": "python",
   "pygments_lexer": "ipython3",
   "version": "3.12.4"
  }
 },
 "nbformat": 4,
 "nbformat_minor": 2
}
