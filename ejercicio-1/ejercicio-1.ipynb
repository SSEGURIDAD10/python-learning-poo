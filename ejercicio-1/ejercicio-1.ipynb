{
 "cells": [
  {
   "cell_type": "code",
   "execution_count": null,
   "metadata": {},
   "outputs": [],
   "source": [
    "class Estudiante:\n",
    "    def __init__(self, nombre, edad, grado):\n",
    "        self.nombre = nombre\n",
    "        self.edad = edad\n",
    "        self.grado = grado\n",
    "    \n",
    "    def estudiar(self):\n",
    "        print(\"Estudiando...\")\n",
    "\n",
    "nombre = input(\"Cual es tu nombre: \")\n",
    "edad = input(\"Cual es tu edad: \")\n",
    "grado = input(\"En que grado escolar te encuentras: \")\n",
    "\n",
    "estudiante = Estudiante(nombre,edad,grado)\n",
    "\n",
    "print(f\"\"\"\n",
    "      DATOS DEL ESTUDIANTE:\n",
    "      Nombre: {estudiante.nombre}\n",
    "      Edad: {estudiante.edad}\n",
    "      Grado: {estudiante.grado}°\n",
    "      \"\"\")\n",
    "\n",
    "while True:\n",
    "    estudiar = input()\n",
    "    if(estudiar.lower() == \"estudiar\"):\n",
    "        estudiante.estudiar()"
   ]
  }
 ],
 "metadata": {
  "kernelspec": {
   "display_name": "Python 3",
   "language": "python",
   "name": "python3"
  },
  "language_info": {
   "codemirror_mode": {
    "name": "ipython",
    "version": 3
   },
   "file_extension": ".py",
   "mimetype": "text/x-python",
   "name": "python",
   "nbconvert_exporter": "python",
   "pygments_lexer": "ipython3",
   "version": "3.12.4"
  }
 },
 "nbformat": 4,
 "nbformat_minor": 2
}
