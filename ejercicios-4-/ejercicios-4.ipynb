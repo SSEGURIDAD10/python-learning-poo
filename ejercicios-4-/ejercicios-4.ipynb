{
 "cells": [
  {
   "cell_type": "code",
   "execution_count": null,
   "metadata": {},
   "outputs": [],
   "source": [
    "# AI TextBlob\n",
    "# pip install textblob\n",
    "from textblob import TextBlob\n",
    "\n",
    "class AnalizadorDeSentimientos:\n",
    "    def analizar_sentimiento(self, texto):\n",
    "        analisis = TextBlob(texto)\n",
    "        if analisis.sentiment.polarity > 0:\n",
    "            return 'Positivo'\n",
    "        elif analisis.sentiment.polarity == 0:\n",
    "            return 'Neutral'\n",
    "        else:\n",
    "            return 'Negativo'\n",
    "\n",
    "analizador = AnalizadorDeSentimientos()\n",
    "resultado = analizador.analizar_sentimiento('Im happy')\n",
    "resultado2 = analizador.analizar_sentimiento('Im bad')\n",
    "print(resultado, resultado2)"
   ]
  }
 ],
 "metadata": {
  "kernelspec": {
   "display_name": "Python 3",
   "language": "python",
   "name": "python3"
  },
  "language_info": {
   "codemirror_mode": {
    "name": "ipython",
    "version": 3
   },
   "file_extension": ".py",
   "mimetype": "text/x-python",
   "name": "python",
   "nbconvert_exporter": "python",
   "pygments_lexer": "ipython3",
   "version": "3.12.4"
  }
 },
 "nbformat": 4,
 "nbformat_minor": 2
}
