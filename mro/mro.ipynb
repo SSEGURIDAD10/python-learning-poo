{
 "cells": [
  {
   "cell_type": "code",
   "execution_count": null,
   "metadata": {},
   "outputs": [],
   "source": [
    "class A:\n",
    "    def hablar(self): \n",
    "        print(\"Hola desde A\")\n",
    "        \n",
    "class B(A):\n",
    "    def hablar(self): \n",
    "        print(\"Hola desde B\")\n",
    "        \n",
    "class C(A):\n",
    "    def hablar(self): \n",
    "        print(\"Hola desde C\")\n",
    "        \n",
    "class D(B,C):\n",
    "    def hablar(self): \n",
    "        print(\"Hola desde D\")\n",
    "\n",
    "d = D()\n",
    "\n",
    "d.hablar()\n",
    "\n",
    "# Esta funcion muestra el orden en el cual se esta dando prioridades\n",
    "# print(D.mro())\n",
    "\n",
    "# El metodo siempre lo va heredar de la clase mas cercana, o en su defecto seguira la raiz principal hasta encontrar el metodo\n",
    "# En caso de recibir 2 clases como parametro con la misma superclase, buscara el metodo en el orden el cual le pasamos los parametros: B luego C"
   ]
  }
 ],
 "metadata": {
  "kernelspec": {
   "display_name": "Python 3",
   "language": "python",
   "name": "python3"
  },
  "language_info": {
   "codemirror_mode": {
    "name": "ipython",
    "version": 3
   },
   "file_extension": ".py",
   "mimetype": "text/x-python",
   "name": "python",
   "nbconvert_exporter": "python",
   "pygments_lexer": "ipython3",
   "version": "3.12.4"
  }
 },
 "nbformat": 4,
 "nbformat_minor": 2
}
