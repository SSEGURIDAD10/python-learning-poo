{
 "cells": [
  {
   "cell_type": "code",
   "execution_count": null,
   "metadata": {},
   "outputs": [],
   "source": [
    "def decorador(funcion):\n",
    "    def funcion_modificada():\n",
    "        print('Antes de la funcion')\n",
    "        funcion()\n",
    "        print('Depues de la funcion')\n",
    "    return funcion_modificada\n",
    "\n",
    "# Forma antigua\n",
    "# def saludo():\n",
    "#     print('Hola con el decorador')\n",
    "\n",
    "# saludo_modificado = decorador(saludo)\n",
    "# saludo_modificado\n",
    "\n",
    "@decorador\n",
    "def saludo():\n",
    "    print('Hola con el decorador')\n",
    "\n",
    "saludo()"
   ]
  }
 ],
 "metadata": {
  "kernelspec": {
   "display_name": "Python 3",
   "language": "python",
   "name": "python3"
  },
  "language_info": {
   "codemirror_mode": {
    "name": "ipython",
    "version": 3
   },
   "file_extension": ".py",
   "mimetype": "text/x-python",
   "name": "python",
   "nbconvert_exporter": "python",
   "pygments_lexer": "ipython3",
   "version": "3.12.4"
  }
 },
 "nbformat": 4,
 "nbformat_minor": 2
}
