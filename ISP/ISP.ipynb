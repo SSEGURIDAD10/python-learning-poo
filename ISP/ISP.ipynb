{
 "cells": [
  {
   "cell_type": "code",
   "execution_count": null,
   "metadata": {},
   "outputs": [],
   "source": [
    "# SOLID 4\n",
    "# ISP (Interface Segregation Principle)\n",
    "\n",
    "from abc import ABC, abstractmethod\n",
    "\n",
    "class Trabajador(ABC):\n",
    "    @abstractmethod\n",
    "    def trabajar(self):\n",
    "        pass\n",
    "    \n",
    "class Comedor(ABC):\n",
    "    @abstractmethod\n",
    "    def comer(self):\n",
    "        pass\n",
    "\n",
    "class Durmiente(ABC):\n",
    "    @abstractmethod\n",
    "    def dormir(self):\n",
    "        pass\n",
    "\n",
    "class Humano(Trabajador, Durmiente, Comedor):\n",
    "    def comer(self):\n",
    "        print('El humano esta comiendo')\n",
    "        \n",
    "    def trabajar(self):\n",
    "        print('El humano esta trabajando')\n",
    "        \n",
    "    def dormir(self):\n",
    "        print('El humano esta durmiendo')\n",
    "        \n",
    "class Robot(Trabajador):\n",
    "    def trabajar(self):\n",
    "        print('El robot esta trabajando')\n",
    "        \n",
    "robot = Robot()\n",
    "humano = Humano()\n",
    "\n",
    "robot.trabajar()\n",
    "humano.trabajar()\n",
    "humano.comer()\n",
    "# robot.comer() No se puede por que no lo tiene implementado"
   ]
  }
 ],
 "metadata": {
  "kernelspec": {
   "display_name": "Python 3",
   "language": "python",
   "name": "python3"
  },
  "language_info": {
   "codemirror_mode": {
    "name": "ipython",
    "version": 3
   },
   "file_extension": ".py",
   "mimetype": "text/x-python",
   "name": "python",
   "nbconvert_exporter": "python",
   "pygments_lexer": "ipython3",
   "version": "3.12.4"
  }
 },
 "nbformat": 4,
 "nbformat_minor": 2
}
